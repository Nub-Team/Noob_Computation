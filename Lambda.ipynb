{
 "cells": [
  {
   "cell_type": "markdown",
   "metadata": {},
   "source": [
    "<b>LAMBDA</b><br>\n",
    "--\n",
    "Coded By : Yehezk34<br>\n",
    "Lambda is an anonymous fuhnction. Where when we want to call lambda, we don't need to re-declare it using <i>def</i>"
   ]
  },
  {
   "cell_type": "code",
   "execution_count": 1,
   "metadata": {},
   "outputs": [
    {
     "name": "stdout",
     "output_type": "stream",
     "text": [
      "25\n"
     ]
    }
   ],
   "source": [
    "def func(x):\n",
    "    return x**2\n",
    "print(func(5))"
   ]
  },
  {
   "cell_type": "code",
   "execution_count": 2,
   "metadata": {},
   "outputs": [
    {
     "name": "stdout",
     "output_type": "stream",
     "text": [
      "25\n"
     ]
    }
   ],
   "source": [
    "lam = lambda x:x**2\n",
    "print(lam(5))"
   ]
  },
  {
   "cell_type": "markdown",
   "metadata": {},
   "source": [
    "Same, right?"
   ]
  },
  {
   "cell_type": "code",
   "execution_count": 4,
   "metadata": {},
   "outputs": [
    {
     "name": "stdout",
     "output_type": "stream",
     "text": [
      "45\n",
      "20 30\n",
      "40\n"
     ]
    }
   ],
   "source": [
    "# Implementing lambda function inside of the function\n",
    "def increment(num):\n",
    "    return lambda x:x+num\n",
    "\n",
    "print(increment(20)(25)) # 20+25=45\n",
    "a = increment(15)\n",
    "b = increment(25)\n",
    "print(a(5), b(5)) # 15+5=20 , 25+5=30\n",
    "\n",
    "print(a(a(10))) # 15 + 15 + 10 = 40"
   ]
  },
  {
   "cell_type": "markdown",
   "metadata": {},
   "source": [
    "1. filter() : creates a list of elements for which a function returns true.\n",
    "2. map() : applies a function to all the items in an input list.\n",
    "3. reduce() : performing some computation on a list and returning the result.\n",
    "\n",
    "You have to import reduce function <b>from functools import reduce</b>"
   ]
  },
  {
   "cell_type": "code",
   "execution_count": 5,
   "metadata": {},
   "outputs": [],
   "source": [
    "# Create list!\n",
    "inList = [6, 20, 14, 2, 5, 18, 10, -7]"
   ]
  },
  {
   "cell_type": "code",
   "execution_count": 6,
   "metadata": {},
   "outputs": [
    {
     "name": "stdout",
     "output_type": "stream",
     "text": [
      "[6, 2, 5, -7]\n",
      "[6, 20, 14, 2, 18, 10]\n"
     ]
    }
   ],
   "source": [
    "less_than_ten = list(filter(lambda x : x < 10, inList))\n",
    "print(less_than_ten)\n",
    "\n",
    "even_numbers = list(filter(lambda y : y % 2 == 0, inList))\n",
    "print(even_numbers)"
   ]
  },
  {
   "cell_type": "code",
   "execution_count": 7,
   "metadata": {},
   "outputs": [
    {
     "name": "stdout",
     "output_type": "stream",
     "text": [
      "[2, 0, 2, 2, 1, 2, 2, 1]\n",
      "[106, 120, 114, 102, 105, 118, 110, 93]\n"
     ]
    }
   ],
   "source": [
    "remainder_list = list(map(lambda x : x%4, inList))\n",
    "print(remainder_list)\n",
    "\n",
    "modified_list = list(map(lambda y : y + 100, inList))\n",
    "print(modified_list)"
   ]
  },
  {
   "cell_type": "code",
   "execution_count": 9,
   "metadata": {},
   "outputs": [
    {
     "name": "stdout",
     "output_type": "stream",
     "text": [
      "68\n",
      "68\n"
     ]
    }
   ],
   "source": [
    "from functools import reduce\n",
    "sum_of_inList = reduce(lambda x, y : x + y, inList)\n",
    "print(sum_of_inList)\n",
    "\n",
    "print(sum(inList)) # Using built-in function!"
   ]
  },
  {
   "cell_type": "code",
   "execution_count": 15,
   "metadata": {},
   "outputs": [
    {
     "name": "stdout",
     "output_type": "stream",
     "text": [
      "[2, 3, 5, 7, 11, 13, 17, 19, 23, 29, 31, 37, 41, 43, 47, 53, 59, 61, 67, 71, 73, 79, 83, 89, 97, 101, 103, 107, 109, 113, 121, 127, 131, 137, 139, 143, 149, 151, 157, 163, 167, 169, 173, 179, 181, 187, 191, 193, 197, 199, 209, 211, 221, 223, 227, 229, 233, 239, 241, 247, 251, 253, 257, 263, 269, 271, 277, 281, 283, 289, 293, 299, 307, 311, 313, 317, 319, 323, 331, 337, 341, 347, 349, 353, 359, 361, 367, 373, 377, 379, 383, 389, 391, 397]\n"
     ]
    }
   ],
   "source": [
    "# Here we try to create the primary number, range 2 untill 400!\n",
    "numbers = list(range(2,400))\n",
    "for i in range(2, 8):\n",
    "    numbers = list(filter(lambda x:x==i or x%i, numbers))\n",
    "print(numbers)"
   ]
  },
  {
   "cell_type": "markdown",
   "metadata": {},
   "source": [
    "In NLP, it's used for take the total character length in a word!"
   ]
  },
  {
   "cell_type": "code",
   "execution_count": 17,
   "metadata": {},
   "outputs": [
    {
     "name": "stdout",
     "output_type": "stream",
     "text": [
      "['The', 'quick', 'brown', 'fox', 'jumps', 'over', 'the', 'lazy', 'dog']\n",
      "[3, 5, 5, 3, 5, 4, 3, 4, 3]\n"
     ]
    }
   ],
   "source": [
    "sentence = \"The quick brown fox jumps over the lazy dog\"\n",
    "words = sentence.split()\n",
    "print(words)\n",
    "lengths = list(map(lambda x:len(x), words))\n",
    "print(lengths)"
   ]
  }
 ],
 "metadata": {
  "kernelspec": {
   "display_name": "Python 3",
   "language": "python",
   "name": "python3"
  },
  "language_info": {
   "codemirror_mode": {
    "name": "ipython",
    "version": 3
   },
   "file_extension": ".py",
   "mimetype": "text/x-python",
   "name": "python",
   "nbconvert_exporter": "python",
   "pygments_lexer": "ipython3",
   "version": "3.7.4"
  }
 },
 "nbformat": 4,
 "nbformat_minor": 2
}
