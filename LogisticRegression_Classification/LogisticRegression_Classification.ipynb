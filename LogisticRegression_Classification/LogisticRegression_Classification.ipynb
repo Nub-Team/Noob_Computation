{
  "nbformat": 4,
  "nbformat_minor": 0,
  "metadata": {
    "colab": {
      "name": "LogisticRegression_Classification.ipynb",
      "provenance": [],
      "authorship_tag": "ABX9TyMCwiNORUc3m/z+ICCCA/wg",
      "include_colab_link": true
    },
    "kernelspec": {
      "name": "python3",
      "display_name": "Python 3"
    }
  },
  "cells": [
    {
      "cell_type": "markdown",
      "metadata": {
        "id": "view-in-github",
        "colab_type": "text"
      },
      "source": [
        "<a href=\"https://colab.research.google.com/github/Scientists-Engineer/Noob_Computation/blob/main/LogisticRegression_Classification.ipynb\" target=\"_parent\"><img src=\"https://colab.research.google.com/assets/colab-badge.svg\" alt=\"Open In Colab\"/></a>"
      ]
    },
    {
      "cell_type": "code",
      "metadata": {
        "id": "KJU6W-UAXlbH"
      },
      "source": [
        "import numpy as np\n",
        "import matplotlib.pyplot as plt\n",
        "import h5py\n",
        "import scipy\n",
        "from PIL import Image\n",
        "%matplotlib inline"
      ],
      "execution_count": 1,
      "outputs": []
    },
    {
      "cell_type": "code",
      "metadata": {
        "id": "eTeQpi5iYs3E"
      },
      "source": [
        "def load_dataset():\n",
        "    train_dataset = h5py.File('train_catvnoncat.h5', \"r\")\n",
        "    train_set_x_orig = np.array(train_dataset[\"train_set_x\"][:]) \n",
        "    train_set_y_orig = np.array(train_dataset[\"train_set_y\"][:]) \n",
        "\n",
        "    test_dataset = h5py.File('test_catvnoncat.h5', \"r\")\n",
        "    test_set_x_orig = np.array(test_dataset[\"test_set_x\"][:]) \n",
        "    test_set_y_orig = np.array(test_dataset[\"test_set_y\"][:]) \n",
        "    classes = np.array(test_dataset[\"list_classes\"][:]) \n",
        "\n",
        "    train_set_y_orig = train_set_y_orig.reshape((1, train_set_y_orig.shape[0]))\n",
        "    test_set_y_orig = test_set_y_orig.reshape((1, test_set_y_orig.shape[0]))\n",
        "    \n",
        "    return train_set_x_orig, train_set_y_orig, test_set_x_orig, test_set_y_orig, classes\n",
        "\n",
        "train_set_x_orig, train_set_y, test_set_x_orig, test_set_y, classes = load_dataset()"
      ],
      "execution_count": 3,
      "outputs": []
    },
    {
      "cell_type": "code",
      "metadata": {
        "id": "EISqEQOZY3wm",
        "outputId": "3c740864-b058-4344-e69c-361d30077e61",
        "colab": {
          "base_uri": "https://localhost:8080/",
          "height": 285
        }
      },
      "source": [
        "index = 2\n",
        "example = train_set_x_orig[index]\n",
        "plt.imshow(train_set_x_orig[index])\n",
        "print (\"y = \" + str(train_set_y[:, index]) + \", it's a '\" + classes[np.squeeze(train_set_y[:, index])].decode(\"utf-8\") +  \"' picture.\")"
      ],
      "execution_count": 9,
      "outputs": [
        {
          "output_type": "stream",
          "text": [
            "y = [1], it's a 'cat' picture.\n"
          ],
          "name": "stdout"
        },
        {
          "output_type": "display_data",
          "data": {
            "image/png": "[encoded data removed]",
            "text/plain": [
              "<Figure size 432x288 with 1 Axes>"
            ]
          },
          "metadata": {
            "tags": [],
            "needs_background": "light"
          }
        }
      ]
    },
    {
      "cell_type": "code",
      "metadata": {
        "id": "5Oey1rEBZAJa",
        "outputId": "b50e48d4-249b-471a-d78b-076c85e26df5",
        "colab": {
          "base_uri": "https://localhost:8080/",
          "height": 153
        }
      },
      "source": [
        "m_train = train_set_x_orig.shape[0]\n",
        "m_test = test_set_x_orig.shape[0]\n",
        "num_px = train_set_x_orig.shape[2]\n",
        "\n",
        "print (\"Number of training examples: m_train = \" + str(m_train))\n",
        "print (\"Number of testing examples: m_test = \" + str(m_test))\n",
        "print (\"Height/Width of each image: num_px = \" + str(num_px))\n",
        "print (\"Each image is of size: (\" + str(num_px) + \", \" + str(num_px) + \", 3)\")\n",
        "print (\"train_set_x shape: \" + str(train_set_x_orig.shape))\n",
        "print (\"train_set_y shape: \" + str(train_set_y.shape))\n",
        "print (\"test_set_x shape: \" + str(test_set_x_orig.shape))\n",
        "print (\"test_set_y shape: \" + str(test_set_y.shape))"
      ],
      "execution_count": 10,
      "outputs": [
        {
          "output_type": "stream",
          "text": [
            "Number of training examples: m_train = 209\n",
            "Number of testing examples: m_test = 50\n",
            "Height/Width of each image: num_px = 64\n",
            "Each image is of size: (64, 64, 3)\n",
            "train_set_x shape: (209, 64, 64, 3)\n",
            "train_set_y shape: (1, 209)\n",
            "test_set_x shape: (50, 64, 64, 3)\n",
            "test_set_y shape: (1, 50)\n"
          ],
          "name": "stdout"
        }
      ]
    },
    {
      "cell_type": "markdown",
      "metadata": {
        "id": "uR6ZV6ECZJlk"
      },
      "source": [
        "RESHAPE TRAINING AND TESTS!"
      ]
    },
    {
      "cell_type": "code",
      "metadata": {
        "id": "pwYyD4_tZGwv",
        "outputId": "9c9a0bd4-006e-4648-94bd-7ac0c180fe39",
        "colab": {
          "base_uri": "https://localhost:8080/",
          "height": 102
        }
      },
      "source": [
        "train_set_x_flatten = train_set_x_orig.reshape(train_set_x_orig.shape[0], -1).T\n",
        "test_set_x_flatten = test_set_x_orig.reshape(test_set_x_orig.shape[0], -1).T\n",
        "\n",
        "print (\"train_set_x_flatten shape: \" + str(train_set_x_flatten.shape))\n",
        "print (\"train_set_y shape: \" + str(train_set_y.shape))\n",
        "print (\"test_set_x_flatten shape: \" + str(test_set_x_flatten.shape))\n",
        "print (\"test_set_y shape: \" + str(test_set_y.shape))\n",
        "print (\"sanity check after reshaping: \" + str(train_set_x_flatten[0:5,0]))"
      ],
      "execution_count": 11,
      "outputs": [
        {
          "output_type": "stream",
          "text": [
            "train_set_x_flatten shape: (12288, 209)\n",
            "train_set_y shape: (1, 209)\n",
            "test_set_x_flatten shape: (12288, 50)\n",
            "test_set_y shape: (1, 50)\n",
            "sanity check after reshaping: [17 31 56 22 33]\n"
          ],
          "name": "stdout"
        }
      ]
    },
    {
      "cell_type": "code",
      "metadata": {
        "id": "RCOmE4SLZMrK",
        "outputId": "1427db0e-0356-4633-d6eb-f20219c3e9ea",
        "colab": {
          "base_uri": "https://localhost:8080/",
          "height": 34
        }
      },
      "source": [
        "train_set_x = train_set_x_flatten/255.\n",
        "test_set_x = test_set_x_flatten/255.\n",
        "\n",
        "print(len(train_set_x))"
      ],
      "execution_count": 13,
      "outputs": [
        {
          "output_type": "stream",
          "text": [
            "12288\n"
          ],
          "name": "stdout"
        }
      ]
    },
    {
      "cell_type": "code",
      "metadata": {
        "id": "icPzUf8oZPPK"
      },
      "source": [
        "# Sigmoid\n",
        "def sigmoid(z):\n",
        "    s = 1. / ( 1 + np.exp(-z))\n",
        "    return s\n",
        "\n",
        "\n",
        "# Zero initialization\n",
        "def initialize_with_zeros(dim):\n",
        "    w = np.zeros(shape=(dim, 1), dtype=np.float32)\n",
        "    b = 0\n",
        "    assert(w.shape == (dim, 1))\n",
        "    assert(isinstance(b, float) or isinstance(b, int))\n",
        "    \n",
        "    return w, b\n",
        "\n",
        "# Forward and Backward propagation\n",
        "def propagate(w, b, X, Y):\n",
        "    m = X.shape[1]\n",
        "    A = sigmoid(np.dot(w.T, X) + b)# Compute activation!\n",
        "    cost = (-1. / m) * np.sum((Y*np.log(A) + (1 - Y)*np.log(1-A)), axis=1)\n",
        "    dw = (1./m)*np.dot(X,((A-Y).T))\n",
        "    db = (1./m)*np.sum(A-Y, axis=1)\n",
        "\n",
        "    assert(dw.shape == w.shape)\n",
        "    assert(db.dtype == float)\n",
        "    cost = np.squeeze(cost)\n",
        "    assert(cost.shape == ())\n",
        "    \n",
        "    grads = {\"dw\": dw,\n",
        "             \"db\": db}\n",
        "    \n",
        "    return grads, cost\n",
        "\n",
        "# Optimization\n",
        "def optimize(w, b, X, Y, num_iterations, learning_rate, print_cost = False):\n",
        "    costs = []\n",
        "    for i in range(num_iterations):\n",
        "        grads, cost = propagate(w=w, b=b, X=X, Y=Y)\n",
        "        dw = grads[\"dw\"]\n",
        "        db = grads[\"db\"]\n",
        "        w = w - learning_rate*dw\n",
        "        b = b -  learning_rate*db\n",
        "        \n",
        "        if i % 100 == 0:\n",
        "            costs.append(cost)\n",
        "        \n",
        "        if print_cost and i % 100 == 0:\n",
        "            print (\"Cost after iteration %i: %f\" %(i, cost))\n",
        "    \n",
        "    params = {\"w\": w,\n",
        "              \"b\": b}\n",
        "    \n",
        "    grads = {\"dw\": dw,\n",
        "             \"db\": db}\n",
        "    \n",
        "    return params, grads, costs\n",
        "\n",
        "# Create prediction!\n",
        "def predict(w, b, X):\n",
        "    m = X.shape[1]\n",
        "    Y_prediction = np.zeros((1,m))\n",
        "    w = w.reshape(X.shape[0], 1)\n",
        "    A = sigmoid(np.dot(w.T, X) + b)\n",
        "    \n",
        "    [print(x) for x in A]\n",
        "    for i in range(A.shape[1]):\n",
        "        if A[0, i] >= 0.5:\n",
        "            Y_prediction[0, i] = 1\n",
        "        else:\n",
        "            Y_prediction[0, i] = 0\n",
        "            \n",
        "    assert(Y_prediction.shape == (1, m))\n",
        "    \n",
        "    return Y_prediction\n",
        "\n",
        "# Modeling function\n",
        "def model(X_train, Y_train, X_test, Y_test, num_iterations = 2000, learning_rate = 0.5, print_cost = False):\n",
        "    w, b = initialize_with_zeros(X_train.shape[0])\n",
        "    parameters, grads, costs = optimize(w, b, X_train, Y_train, num_iterations, learning_rate, print_cost)\n",
        "    w = parameters[\"w\"]\n",
        "    b = parameters[\"b\"]\n",
        "    Y_prediction_test = predict(w, b, X_test)\n",
        "    Y_prediction_train = predict(w, b, X_train)\n",
        "\n",
        "    print(\"train accuracy: {} %\".format(100 - np.mean(np.abs(Y_prediction_train - Y_train)) * 100))\n",
        "    print(\"test accuracy: {} %\".format(100 - np.mean(np.abs(Y_prediction_test - Y_test)) * 100))\n",
        "    d = {\"costs\": costs,\n",
        "         \"Y_prediction_test\": Y_prediction_test, \n",
        "         \"Y_prediction_train\" : Y_prediction_train, \n",
        "         \"w\" : w, \n",
        "         \"b\" : b,\n",
        "         \"learning_rate\" : learning_rate,\n",
        "         \"num_iterations\": num_iterations}\n",
        "    \n",
        "    return d"
      ],
      "execution_count": 15,
      "outputs": []
    },
    {
      "cell_type": "markdown",
      "metadata": {
        "id": "Y65b9Q-jajVe"
      },
      "source": [
        "ONE BY ONE TESTING FUNCTION!"
      ]
    },
    {
      "cell_type": "code",
      "metadata": {
        "id": "V5lkwXBaZdHZ",
        "outputId": "e6bac795-e54b-4b50-d8cc-354bad39c932",
        "colab": {
          "base_uri": "https://localhost:8080/",
          "height": 34
        }
      },
      "source": [
        "# Sigmoid\n",
        "print (\"sigmoid([0, 2]) = \" + str(sigmoid(np.array([0,2]))))"
      ],
      "execution_count": 17,
      "outputs": [
        {
          "output_type": "stream",
          "text": [
            "sigmoid([0, 2]) = [0.5        0.88079708]\n"
          ],
          "name": "stdout"
        }
      ]
    },
    {
      "cell_type": "code",
      "metadata": {
        "id": "MK2V4nVAansC",
        "outputId": "5be3be04-f1ec-4fa4-8f1d-a7c2a668fda8",
        "colab": {
          "base_uri": "https://localhost:8080/",
          "height": 68
        }
      },
      "source": [
        "# Zero initialization\n",
        "dim = 2\n",
        "w, b = initialize_with_zeros(dim)\n",
        "print (\"w = \" + str(w))\n",
        "print (\"b = \" + str(b))"
      ],
      "execution_count": 18,
      "outputs": [
        {
          "output_type": "stream",
          "text": [
            "w = [[0.]\n",
            " [0.]]\n",
            "b = 0\n"
          ],
          "name": "stdout"
        }
      ]
    },
    {
      "cell_type": "code",
      "metadata": {
        "id": "87gv2zzZawZB",
        "outputId": "fca0ef3b-7844-4a4d-f519-0f87c0296d5e",
        "colab": {
          "base_uri": "https://localhost:8080/",
          "height": 85
        }
      },
      "source": [
        "# Propagation\n",
        "w, b, X, Y = np.array([[1],[2]]), 2, np.array([[1,2],[3,4]]), np.array([[1,0]])\n",
        "grads, cost = propagate(w, b, X, Y)\n",
        "print (\"dw = \" + str(grads[\"dw\"]))\n",
        "print (\"db = \" + str(grads[\"db\"]))\n",
        "print (\"cost = \" + str(cost))"
      ],
      "execution_count": 19,
      "outputs": [
        {
          "output_type": "stream",
          "text": [
            "dw = [[0.99993216]\n",
            " [1.99980262]]\n",
            "db = [0.49993523]\n",
            "cost = 6.000064773192205\n"
          ],
          "name": "stdout"
        }
      ]
    },
    {
      "cell_type": "code",
      "metadata": {
        "id": "1xdtSgEda0MM",
        "outputId": "40ce6143-e085-406f-a4b9-f44cf0a01058",
        "colab": {
          "base_uri": "https://localhost:8080/",
          "height": 119
        }
      },
      "source": [
        "# Optimization\n",
        "params, grads, costs = optimize(w, b, X, Y, num_iterations= 100, learning_rate = 0.009, print_cost = False)\n",
        "\n",
        "print (\"w = \" + str(params[\"w\"]))\n",
        "print (\"b = \" + str(params[\"b\"]))\n",
        "print (\"dw = \" + str(grads[\"dw\"]))\n",
        "print (\"db = \" + str(grads[\"db\"]))"
      ],
      "execution_count": 20,
      "outputs": [
        {
          "output_type": "stream",
          "text": [
            "w = [[0.1124579 ]\n",
            " [0.23106775]]\n",
            "b = [1.55930492]\n",
            "dw = [[0.90158428]\n",
            " [1.76250842]]\n",
            "db = [0.43046207]\n"
          ],
          "name": "stdout"
        }
      ]
    },
    {
      "cell_type": "code",
      "metadata": {
        "id": "-liHJ_Bka42Y",
        "outputId": "efb53865-e48c-4b60-8876-d433fe90e41a",
        "colab": {
          "base_uri": "https://localhost:8080/",
          "height": 51
        }
      },
      "source": [
        "# Prediction!\n",
        "print (\"predictions = \" + str(predict(w, b, X)))"
      ],
      "execution_count": 21,
      "outputs": [
        {
          "output_type": "stream",
          "text": [
            "[0.99987661 0.99999386]\n",
            "predictions = [[1. 1.]]\n"
          ],
          "name": "stdout"
        }
      ]
    },
    {
      "cell_type": "code",
      "metadata": {
        "id": "7bXDhfiRa8OO",
        "outputId": "7b187626-fa7b-4c1a-b48e-c6395a1e4792",
        "colab": {
          "base_uri": "https://localhost:8080/",
          "height": 833
        }
      },
      "source": [
        "# Modeling function\n",
        "d = model(train_set_x, train_set_y, test_set_x, test_set_y, num_iterations = 200, learning_rate = 0.005, print_cost = True)"
      ],
      "execution_count": 22,
      "outputs": [
        {
          "output_type": "stream",
          "text": [
            "Cost after iteration 0: 0.693147\n",
            "Cost after iteration 100: 0.584508\n",
            "[0.83141586 0.82747879 0.85869237 0.82685874 0.7628477  0.56147366\n",
            " 0.44197664 0.83634873 0.85276814 0.73906976 0.54044816 0.66811618\n",
            " 0.71129825 0.75902797 0.20668694 0.81540037 0.2343112  0.75064914\n",
            " 0.41166681 0.32990263 0.7324662  0.22008857 0.15704549 0.53908834\n",
            " 0.79601037 0.74407443 0.66366929 0.23740104 0.36563787 0.89868301\n",
            " 0.53056109 0.69947967 0.75983986 0.56263584 0.70471775 0.24153744\n",
            " 0.40914623 0.80997093 0.66815744 0.21186954 0.60041301 0.81368675\n",
            " 0.63466935 0.25673434 0.76499279 0.36460079 0.54183507 0.92782038\n",
            " 0.58715957 0.35087757]\n",
            "[0.50758923 0.32319403 0.776988   0.02112216 0.293458   0.44251047\n",
            " 0.2130483  0.83094986 0.32277337 0.30634613 0.73344707 0.67539404\n",
            " 0.55640044 0.81049328 0.44786603 0.34735985 0.32667864 0.25216421\n",
            " 0.40205107 0.82490459 0.20556613 0.20624932 0.56363627 0.4985764\n",
            " 0.74971312 0.66569481 0.25134991 0.63026125 0.35478475 0.48896505\n",
            " 0.29175738 0.45601818 0.75978598 0.58383015 0.20257339 0.47184986\n",
            " 0.17554843 0.43697144 0.63234891 0.64178671 0.1602702  0.2480812\n",
            " 0.76537513 0.33840878 0.22446391 0.52934989 0.45794635 0.65604593\n",
            " 0.06130659 0.44679682 0.70208853 0.63494476 0.45047068 0.7780892\n",
            " 0.71141938 0.21098122 0.85629501 0.78423004 0.29448881 0.86575216\n",
            " 0.76580972 0.63665004 0.25050086 0.34808573 0.5636361  0.39697169\n",
            " 0.4980285  0.43795335 0.57111486 0.29353944 0.42493701 0.89085226\n",
            " 0.34185245 0.64907942 0.4707886  0.70578559 0.0415117  0.35268496\n",
            " 0.17713663 0.29166772 0.18209244 0.26756288 0.19397023 0.71187163\n",
            " 0.74491356 0.30158639 0.45274139 0.39730843 0.78429188 0.31149872\n",
            " 0.63237093 0.47197297 0.26424125 0.84443922 0.75736755 0.42476199\n",
            " 0.46779685 0.68976659 0.36400946 0.46373335 0.63771356 0.32284111\n",
            " 0.51544129 0.46000544 0.87077228 0.59585279 0.92629262 0.59772885\n",
            " 0.75449721 0.63653758 0.71544817 0.8343222  0.26864579 0.46448455\n",
            " 0.41926631 0.31464593 0.440456   0.70930927 0.19633022 0.73211026\n",
            " 0.25807487 0.66638089 0.52142947 0.04509353 0.71608794 0.07463899\n",
            " 0.69051856 0.72153414 0.72106201 0.87589266 0.47282031 0.47881195\n",
            " 0.2437421  0.8344057  0.63780462 0.41284975 0.80006613 0.70366948\n",
            " 0.18749448 0.28501057 0.35803351 0.44808801 0.88718776 0.09627145\n",
            " 0.63353243 0.7613642  0.75064914 0.60267408 0.64963434 0.76477612\n",
            " 0.72414329 0.31105999 0.21426289 0.82266465 0.20547636 0.79279886\n",
            " 0.71540408 0.10415679 0.20348445 0.30968748 0.09280377 0.53286684\n",
            " 0.68811287 0.68936898 0.82148975 0.14272745 0.89884959 0.65751069\n",
            " 0.23606672 0.48877564 0.67605247 0.82008559 0.6181349  0.34595674\n",
            " 0.84217255 0.72397617 0.36162259 0.72426817 0.37548894 0.46168963\n",
            " 0.17353082 0.3342917  0.18469874 0.364787   0.07158352 0.52686429\n",
            " 0.20999643 0.25769748 0.83933264 0.19123952 0.32317217 0.40562696\n",
            " 0.5212711  0.44827159 0.09225944 0.40892772 0.62847028 0.74134627\n",
            " 0.37932327 0.16400655 0.73808518 0.37833098 0.40838382 0.17500217\n",
            " 0.60493318 0.42978106 0.45763504 0.27258813 0.44476749]\n",
            "train accuracy: 83.25358851674642 %\n",
            "test accuracy: 80.0 %\n"
          ],
          "name": "stdout"
        }
      ]
    },
    {
      "cell_type": "code",
      "metadata": {
        "id": "olOD1mSObA2D",
        "outputId": "6b96245d-794b-44fd-e971-178a3c645036",
        "colab": {
          "base_uri": "https://localhost:8080/",
          "height": 285
        }
      },
      "source": [
        "index = 0\n",
        "plt.imshow(test_set_x[:,index].reshape((num_px, num_px, 3)))\n",
        "print (\"y = \" + str(test_set_y[0,index]) + \", you predicted that it is a \\\"\" + classes[int(d[\"Y_prediction_test\"][0,index])].decode(\"utf-8\") +  \"\\\" picture.\")"
      ],
      "execution_count": 24,
      "outputs": [
        {
          "output_type": "stream",
          "text": [
            "y = 1, you predicted that it is a \"cat\" picture.\n"
          ],
          "name": "stdout"
        },
        {
          "output_type": "display_data",
          "data": {
            "image/png": "[encoded data removed]",
            "text/plain": [
              "<Figure size 432x288 with 1 Axes>"
            ]
          },
          "metadata": {
            "tags": [],
            "needs_background": "light"
          }
        }
      ]
    },
    {
      "cell_type": "code",
      "metadata": {
        "id": "fZbE6MzebEDJ",
        "outputId": "816f1b27-78a3-4454-d062-0df07d4cfbd8",
        "colab": {
          "base_uri": "https://localhost:8080/",
          "height": 285
        }
      },
      "source": [
        "index = 10\n",
        "plt.imshow(test_set_x[:,index].reshape((num_px, num_px, 3)))\n",
        "print (\"y = \" + str(test_set_y[0,index]) + \", you predicted that it is a \\\"\" + classes[int(d[\"Y_prediction_test\"][0,index])].decode(\"utf-8\") +  \"\\\" picture.\")"
      ],
      "execution_count": 25,
      "outputs": [
        {
          "output_type": "stream",
          "text": [
            "y = 1, you predicted that it is a \"cat\" picture.\n"
          ],
          "name": "stdout"
        },
        {
          "output_type": "display_data",
          "data": {
            "image/png": "[encoded data removed]",
            "text/plain": [
              "<Figure size 432x288 with 1 Axes>"
            ]
          },
          "metadata": {
            "tags": [],
            "needs_background": "light"
          }
        }
      ]
    }
  ]
}