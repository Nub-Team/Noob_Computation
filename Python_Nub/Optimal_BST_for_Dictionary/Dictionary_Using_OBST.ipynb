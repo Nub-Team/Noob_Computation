{
  "nbformat": 4,
  "nbformat_minor": 0,
  "metadata": {
    "colab": {
      "name": "Dictionary_Using_OBST.ipynb",
      "provenance": []
    },
    "kernelspec": {
      "name": "python3",
      "display_name": "Python 3"
    }
  },
  "cells": [
    {
      "cell_type": "markdown",
      "metadata": {
        "id": "svLuxY2Xkh18"
      },
      "source": [
        "<b>Dictionary using Optimal BST</b><br>\r\n",
        "--\r\n",
        "Created by : \r\n",
        "* Juna\r\n",
        "* <a href=\"https://github.com/Yehezk34\">Yehezkiel Tato</a>\r\n"
      ]
    },
    {
      "cell_type": "code",
      "metadata": {
        "id": "BmyDcIzYkY0y"
      },
      "source": [
        "# Class for node\r\n",
        "\r\n",
        "class Node:\r\n",
        "    def __init__(self, data):\r\n",
        "        self.left = None\r\n",
        "        self.right = None\r\n",
        "        self.data = data"
      ],
      "execution_count": 5,
      "outputs": []
    },
    {
      "cell_type": "code",
      "metadata": {
        "id": "2kvc7mZQkcgy"
      },
      "source": [
        "# Print the Traversal\r\n",
        "def height(node): \r\n",
        "    if node is None: \r\n",
        "        return 0 \r\n",
        "    else :  \r\n",
        "        lheight = height(node.left) \r\n",
        "        rheight = height(node.right) \r\n",
        "        if lheight > rheight : \r\n",
        "            return lheight+1\r\n",
        "        else: \r\n",
        "            return rheight+1\r\n",
        "        \r\n",
        "def printLevelOrder(root): \r\n",
        "    h = height(root) \r\n",
        "    for i in range(1, h+1): \r\n",
        "        print('########')\r\n",
        "        x=[]\r\n",
        "        print(\"Level : \",i)\r\n",
        "        printGivenLevel(root, i,x) \r\n",
        "        print(x)\r\n",
        "\r\n",
        "    print('########')\r\n",
        "     \r\n",
        "def printGivenLevel(root , level,x): \r\n",
        "    if root is None: \r\n",
        "        return\r\n",
        "    if level == 1: \r\n",
        "        x.append(root.data) \r\n",
        "    elif level > 1 : \r\n",
        "        printGivenLevel(root.left , level-1,x) \r\n",
        "        printGivenLevel(root.right , level-1,x)"
      ],
      "execution_count": 6,
      "outputs": []
    },
    {
      "cell_type": "code",
      "metadata": {
        "id": "hUfTEcTalhnw"
      },
      "source": [
        "# Returning the 'level' that was found in the BST\r\n",
        "def getLevelUtil(node, data, level): \r\n",
        "    if (node == None): \r\n",
        "        return 0\r\n",
        "  \r\n",
        "    if (node.data == data) : \r\n",
        "        return level  \r\n",
        "  \r\n",
        "    downlevel = getLevelUtil(node.left, data, level + 1)  \r\n",
        "    if (downlevel != 0) : \r\n",
        "        return downlevel  \r\n",
        "  \r\n",
        "    downlevel = getLevelUtil(node.right, data, level + 1)  \r\n",
        "    return downlevel  \r\n",
        "  \r\n",
        "def getLevel(node, data) : \r\n",
        "    return getLevelUtil(node, data, 1)"
      ],
      "execution_count": 7,
      "outputs": []
    },
    {
      "cell_type": "markdown",
      "metadata": {
        "id": "xg5b70Vll30x"
      },
      "source": [
        "<h3>Calculation of input document</h3>"
      ]
    },
    {
      "cell_type": "code",
      "metadata": {
        "id": "LRGqOFILl05u"
      },
      "source": [
        "# First open the file!\r\n",
        "words = []\r\n",
        "with open('input_file.txt','r') as file:      \r\n",
        "    for line in file:     \r\n",
        "        for word in line.split():   \r\n",
        "            words.append(word)\r\n",
        "punctuations = '''!()-[]{};:'\"\\,<>./?@#$%^&*_~1234567890'''\r\n",
        "dict_list=[]\r\n",
        "for word in words:\r\n",
        "    no_punct = \"\"\r\n",
        "    for char in word:\r\n",
        "        if char not in punctuations:\r\n",
        "            no_punct = no_punct + char\r\n",
        "    if no_punct != \"\":\r\n",
        "        dict_list.append(no_punct.lower())\r\n",
        "key = []\r\n",
        "for word in dict_list:\r\n",
        "    if word not in key:\r\n",
        "        key.append(word)\r\n",
        "freq = []\r\n",
        "for i in range(len(key)):\r\n",
        "    freq.append(dict_list.count(key[i]))"
      ],
      "execution_count": 10,
      "outputs": []
    },
    {
      "cell_type": "code",
      "metadata": {
        "id": "KKwAFy48l70I"
      },
      "source": [
        "def summ(P, I, J):\r\n",
        "    sum_p = 0\r\n",
        "    for m in range(I, J + 1):\r\n",
        "        sum_p += P[m][1]\r\n",
        "    return sum_p"
      ],
      "execution_count": 11,
      "outputs": []
    },
    {
      "cell_type": "code",
      "metadata": {
        "id": "wgr429ZUl-uV"
      },
      "source": [
        "n = len(key)\r\n",
        "keys = []\r\n",
        "\r\n",
        "for i in range(n):\r\n",
        "    keys.append((key[i],freq[i]))\r\n",
        "\r\n",
        "# Sort the keys\r\n",
        "keys.sort(key = lambda x: x[0])\r\n",
        "R = [[0 for x in range(n + 1)] for y in range(n + 1)]\r\n",
        "A = [[0 for x in range(n + 1)] for y in range(n + 1)]\r\n",
        "for i in range(n):\r\n",
        "    A[i][i - 1] = 0\r\n",
        "    R[i][i - 1] = 0\r\n",
        "    A[i][i] = keys[i][1]\r\n",
        "    R[i][i] = i\r\n",
        "    \r\n",
        "for diagonal in range(n):\r\n",
        "    for i in range(n - diagonal):\r\n",
        "        j = i + diagonal\r\n",
        "        if i < j:\r\n",
        "            min_list = []\r\n",
        "            for k in range(i, j + 1):\r\n",
        "                min_list.append(((A[i][k - 1] + A[k + 1][j]), k))\r\n",
        "            min_list.sort()\r\n",
        "            A[i][j] = min_list[0][0] + summ(keys, i, j)\r\n",
        "            R[i][j] = min_list[0][1]"
      ],
      "execution_count": 12,
      "outputs": []
    },
    {
      "cell_type": "code",
      "metadata": {
        "id": "Luve-7PnmUHw"
      },
      "source": [
        "# Here is the function to create the BST\r\n",
        "def tree(keys, k, i, j):\r\n",
        "    r = k[i][j]\r\n",
        "    if i == j:\r\n",
        "        root = Node(keys[r][0])\r\n",
        "    else:\r\n",
        "        root = Node(keys[r][0])\r\n",
        "        if i <= r - 1:\r\n",
        "            root.left = tree(keys, k, i, r - 1)\r\n",
        "        if r + 1 <= j:\r\n",
        "            root.right = tree(keys, k, r + 1, j)\r\n",
        "\r\n",
        "    return root"
      ],
      "execution_count": 15,
      "outputs": []
    },
    {
      "cell_type": "code",
      "metadata": {
        "colab": {
          "base_uri": "https://localhost:8080/"
        },
        "id": "7DPaxilEmZ_1",
        "outputId": "1e525a47-bf00-4518-f02b-ba2d888f6dd8"
      },
      "source": [
        "root = tree(keys, R, 0, n - 1)\r\n",
        "print('Cost of binary search is ' + str(A[0][n - 1]))"
      ],
      "execution_count": 17,
      "outputs": [
        {
          "output_type": "stream",
          "text": [
            "Cost of binary search is 1215\n"
          ],
          "name": "stdout"
        }
      ]
    },
    {
      "cell_type": "code",
      "metadata": {
        "colab": {
          "base_uri": "https://localhost:8080/"
        },
        "id": "ohUbPznvmcZL",
        "outputId": "757058c1-0278-47e4-9d80-8ae156f43f38"
      },
      "source": [
        "# Print the BST\r\n",
        "printLevelOrder(root)"
      ],
      "execution_count": 18,
      "outputs": [
        {
          "output_type": "stream",
          "text": [
            "########\n",
            "Level :  1\n",
            "['of']\n",
            "########\n",
            "Level :  2\n",
            "['general', 'the']\n",
            "########\n",
            "Level :  3\n",
            "['consistent', 'is', 'relativity', 'time']\n",
            "########\n",
            "Level :  4\n",
            "['and', 'einstein', 'gravity', 'light', 'quantum', 'space', 'theory', 'unified']\n",
            "########\n",
            "Level :  5\n",
            "['a', 'by', 'description', 'experiments', 'gravitation', 'in', 'known', 'motion', 'physics', 'redshift', 'significantly', 'specified', 'those', 'to', 'with']\n",
            "########\n",
            "Level :  6\n",
            "['all', 'be', 'classical', 'curvature', 'differential', 'equations', 'forces', 'geometric', 'gravitational', 'how', 'include', 'it', 'laws', 'modern', 'nuclear', 'or', 'produce', 'radiation', 'relation', 'remain', 'singularities', 'spacetime', 'such', 'three', 'unanswered', 'weak']\n",
            "########\n",
            "Level :  7\n",
            "['albert', 'also', 'as', 'being', 'can', 'concerning', 'current', 'date', 'differ', 'dimensional', 'electromagnetic', 'examples', 'field', 'free', 'generalizes', 'geometry', 'have', 'however', 'law', 'lensing', 'matter', 'momentum', 'nongravitational', 'observations', 'only', 'particular', 'predictions', 'property', 'questions', 'reconciled', 'refines', 'relativistic', 'self', 'simplest', 'some', 'special', 'strong', 'system', 'universal', 'whatever']\n",
            "########\n",
            "Level :  8\n",
            "['although', 'are', 'been', 'black', 'complete', 'confirmed', 'data', 'delay', 'differences', 'dilation', 'directly', 'energy', 'especially', 'experimental', 'fall', 'force', 'four', 'from', 'holes', 'most', 'newtons', 'not', 'partial', 'passage', 'present', 'propagation', 'providing', 'related', 'that']\n",
            "########\n",
            "Level :  9\n",
            "['bodies', 'fundamental', 'published']\n",
            "########\n"
          ],
          "name": "stdout"
        }
      ]
    },
    {
      "cell_type": "code",
      "metadata": {
        "colab": {
          "base_uri": "https://localhost:8080/"
        },
        "id": "sf6oKh6Wmiqm",
        "outputId": "a0c2cd90-5804-405c-865c-e7b65d2fa438"
      },
      "source": [
        "# Now search the words!\r\n",
        "\r\n",
        "search_word = input(\"Enter the keyword to find:\")\r\n",
        "depth = getLevel(root,search_word)\r\n",
        "if depth != 0:\r\n",
        "    print(search_word,\"found at depth :\",depth)\r\n",
        "else:\r\n",
        "    print(search_word,\"not found!!\")"
      ],
      "execution_count": 19,
      "outputs": [
        {
          "output_type": "stream",
          "text": [
            "Enter the keyword to find:bodies\n",
            "bodies found at depth : 9\n"
          ],
          "name": "stdout"
        }
      ]
    }
  ]
}