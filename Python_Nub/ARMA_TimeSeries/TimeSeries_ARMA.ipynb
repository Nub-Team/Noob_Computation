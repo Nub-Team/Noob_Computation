{
  "nbformat": 4,
  "nbformat_minor": 0,
  "metadata": {
    "colab": {
      "name": "TimeSeries_ARMA.ipynb",
      "provenance": [],
      "authorship_tag": "ABX9TyNVO34zJqFT+V0QcHf/w1bk",
      "include_colab_link": true
    },
    "kernelspec": {
      "name": "python3",
      "display_name": "Python 3"
    }
  },
  "cells": [
    {
      "cell_type": "markdown",
      "metadata": {
        "id": "view-in-github",
        "colab_type": "text"
      },
      "source": [
        "<a href=\"https://colab.research.google.com/github/Nub-T/Noob_Computation/blob/main/TimeSeries_ARMA.ipynb\" target=\"_parent\"><img src=\"https://colab.research.google.com/assets/colab-badge.svg\" alt=\"Open In Colab\"/></a>"
      ]
    },
    {
      "cell_type": "markdown",
      "metadata": {
        "id": "Rslou19WZSVU"
      },
      "source": [
        "Coded by : Andi-Nov"
      ]
    },
    {
      "cell_type": "code",
      "metadata": {
        "id": "gzQ-w4O9Y8r3"
      },
      "source": [
        "import numpy as np\n",
        "import pandas as pd\n",
        "from pathlib import Path\n",
        "%matplotlib inline"
      ],
      "execution_count": 3,
      "outputs": []
    },
    {
      "cell_type": "code",
      "metadata": {
        "id": "jN8d4e5JZRm9",
        "outputId": "b1ac5fe5-0742-463c-d137-1ce961d689a3",
        "colab": {
          "base_uri": "https://localhost:8080/",
          "height": 235
        }
      },
      "source": [
        "yen_futures = pd.read_csv(\n",
        "    Path(\"yen.csv\"), index_col=\"Date\", infer_datetime_format=True, parse_dates=True\n",
        ")\n",
        "yen_futures.head()"
      ],
      "execution_count": 4,
      "outputs": [
        {
          "output_type": "execute_result",
          "data": {
            "text/html": [
              "<div>\n",
              "<style scoped>\n",
              "    .dataframe tbody tr th:only-of-type {\n",
              "        vertical-align: middle;\n",
              "    }\n",
              "\n",
              "    .dataframe tbody tr th {\n",
              "        vertical-align: top;\n",
              "    }\n",
              "\n",
              "    .dataframe thead th {\n",
              "        text-align: right;\n",
              "    }\n",
              "</style>\n",
              "<table border=\"1\" class=\"dataframe\">\n",
              "  <thead>\n",
              "    <tr style=\"text-align: right;\">\n",
              "      <th></th>\n",
              "      <th>Open</th>\n",
              "      <th>High</th>\n",
              "      <th>Low</th>\n",
              "      <th>Last</th>\n",
              "      <th>Change</th>\n",
              "      <th>Settle</th>\n",
              "      <th>Volume</th>\n",
              "      <th>Previous Day Open Interest</th>\n",
              "    </tr>\n",
              "    <tr>\n",
              "      <th>Date</th>\n",
              "      <th></th>\n",
              "      <th></th>\n",
              "      <th></th>\n",
              "      <th></th>\n",
              "      <th></th>\n",
              "      <th></th>\n",
              "      <th></th>\n",
              "      <th></th>\n",
              "    </tr>\n",
              "  </thead>\n",
              "  <tbody>\n",
              "    <tr>\n",
              "      <th>1976-08-02</th>\n",
              "      <td>3398.0</td>\n",
              "      <td>3401.0</td>\n",
              "      <td>3398.0</td>\n",
              "      <td>3401.0</td>\n",
              "      <td>NaN</td>\n",
              "      <td>3401.0</td>\n",
              "      <td>2.0</td>\n",
              "      <td>1.0</td>\n",
              "    </tr>\n",
              "    <tr>\n",
              "      <th>1976-08-03</th>\n",
              "      <td>3401.0</td>\n",
              "      <td>3401.0</td>\n",
              "      <td>3401.0</td>\n",
              "      <td>3401.0</td>\n",
              "      <td>NaN</td>\n",
              "      <td>3401.0</td>\n",
              "      <td>0.0</td>\n",
              "      <td>1.0</td>\n",
              "    </tr>\n",
              "    <tr>\n",
              "      <th>1976-08-04</th>\n",
              "      <td>3401.0</td>\n",
              "      <td>3401.0</td>\n",
              "      <td>3401.0</td>\n",
              "      <td>3401.0</td>\n",
              "      <td>NaN</td>\n",
              "      <td>3401.0</td>\n",
              "      <td>0.0</td>\n",
              "      <td>1.0</td>\n",
              "    </tr>\n",
              "    <tr>\n",
              "      <th>1976-08-05</th>\n",
              "      <td>3401.0</td>\n",
              "      <td>3401.0</td>\n",
              "      <td>3401.0</td>\n",
              "      <td>3401.0</td>\n",
              "      <td>NaN</td>\n",
              "      <td>3401.0</td>\n",
              "      <td>0.0</td>\n",
              "      <td>1.0</td>\n",
              "    </tr>\n",
              "    <tr>\n",
              "      <th>1976-08-06</th>\n",
              "      <td>3401.0</td>\n",
              "      <td>3401.0</td>\n",
              "      <td>3401.0</td>\n",
              "      <td>3401.0</td>\n",
              "      <td>NaN</td>\n",
              "      <td>3401.0</td>\n",
              "      <td>0.0</td>\n",
              "      <td>1.0</td>\n",
              "    </tr>\n",
              "  </tbody>\n",
              "</table>\n",
              "</div>"
            ],
            "text/plain": [
              "              Open    High     Low  ...  Settle  Volume  Previous Day Open Interest\n",
              "Date                                ...                                            \n",
              "1976-08-02  3398.0  3401.0  3398.0  ...  3401.0     2.0                         1.0\n",
              "1976-08-03  3401.0  3401.0  3401.0  ...  3401.0     0.0                         1.0\n",
              "1976-08-04  3401.0  3401.0  3401.0  ...  3401.0     0.0                         1.0\n",
              "1976-08-05  3401.0  3401.0  3401.0  ...  3401.0     0.0                         1.0\n",
              "1976-08-06  3401.0  3401.0  3401.0  ...  3401.0     0.0                         1.0\n",
              "\n",
              "[5 rows x 8 columns]"
            ]
          },
          "metadata": {
            "tags": []
          },
          "execution_count": 4
        }
      ]
    },
    {
      "cell_type": "code",
      "metadata": {
        "id": "wm_fAl1vazel",
        "outputId": "6133420a-8616-44e4-e054-3fc0c03139a8",
        "colab": {
          "base_uri": "https://localhost:8080/"
        }
      },
      "source": [
        "yen_futures = yen_futures.loc[\"1990-01-01\":, :]\n",
        "print(yen_futures.head())"
      ],
      "execution_count": 5,
      "outputs": [
        {
          "output_type": "stream",
          "text": [
            "              Open    High     Low  ...  Settle   Volume  Previous Day Open Interest\n",
            "Date                                ...                                             \n",
            "1990-01-02  6954.0  6954.0  6835.0  ...  6847.0  48336.0                     51473.0\n",
            "1990-01-03  6877.0  6910.0  6865.0  ...  6887.0  38206.0                     53860.0\n",
            "1990-01-04  6937.0  7030.0  6924.0  ...  7008.0  49649.0                     55699.0\n",
            "1990-01-05  6952.0  6985.0  6942.0  ...  6950.0  29944.0                     53111.0\n",
            "1990-01-08  6936.0  6972.0  6936.0  ...  6959.0  19763.0                     52072.0\n",
            "\n",
            "[5 rows x 8 columns]\n"
          ],
          "name": "stdout"
        }
      ]
    },
    {
      "cell_type": "code",
      "metadata": {
        "id": "wJvCXYBVa5wC",
        "outputId": "4661016f-c0c6-4c23-cece-d86bb688b2ea",
        "colab": {
          "base_uri": "https://localhost:8080/",
          "height": 286
        }
      },
      "source": [
        "yen_settle  = pd.DataFrame(yen_futures[\"Settle\"])\n",
        "yen_settle.plot()"
      ],
      "execution_count": 11,
      "outputs": [
        {
          "output_type": "execute_result",
          "data": {
            "text/plain": [
              "<matplotlib.axes._subplots.AxesSubplot at 0x7f5ce801eb38>"
            ]
          },
          "metadata": {
            "tags": []
          },
          "execution_count": 11
        },
        {
          "output_type": "display_data",
          "data": {
            "image/png": "[encoded data removed]",
            "text/plain": [
              "<Figure size 432x288 with 1 Axes>"
            ]
          },
          "metadata": {
            "tags": [],
            "needs_background": "light"
          }
        }
      ]
    },
    {
      "cell_type": "code",
      "metadata": {
        "id": "2qR9HjpFa_j6"
      },
      "source": [
        "# Using a Hodrick-Prescott Filter, decompose the Settle price into a trend and noise.\n",
        "import statsmodels.api as sm"
      ],
      "execution_count": 12,
      "outputs": []
    },
    {
      "cell_type": "code",
      "metadata": {
        "id": "-sV2_o6dbJCN",
        "outputId": "b71d7988-57b5-4026-d480-b6f21d71c93f",
        "colab": {
          "base_uri": "https://localhost:8080/",
          "height": 235
        }
      },
      "source": [
        "yen_settle_noise, yen_settle_trend = sm.tsa.filters.hpfilter(yen_settle)\n",
        "yen_settle[\"noise\"] = yen_settle_noise\n",
        "yen_settle[\"trend\"] = yen_settle_trend\n",
        "yen_settle.head()"
      ],
      "execution_count": 13,
      "outputs": [
        {
          "output_type": "execute_result",
          "data": {
            "text/html": [
              "<div>\n",
              "<style scoped>\n",
              "    .dataframe tbody tr th:only-of-type {\n",
              "        vertical-align: middle;\n",
              "    }\n",
              "\n",
              "    .dataframe tbody tr th {\n",
              "        vertical-align: top;\n",
              "    }\n",
              "\n",
              "    .dataframe thead th {\n",
              "        text-align: right;\n",
              "    }\n",
              "</style>\n",
              "<table border=\"1\" class=\"dataframe\">\n",
              "  <thead>\n",
              "    <tr style=\"text-align: right;\">\n",
              "      <th></th>\n",
              "      <th>Settle</th>\n",
              "      <th>noise</th>\n",
              "      <th>trend</th>\n",
              "    </tr>\n",
              "    <tr>\n",
              "      <th>Date</th>\n",
              "      <th></th>\n",
              "      <th></th>\n",
              "      <th></th>\n",
              "    </tr>\n",
              "  </thead>\n",
              "  <tbody>\n",
              "    <tr>\n",
              "      <th>1990-01-02</th>\n",
              "      <td>6847.0</td>\n",
              "      <td>-61.503967</td>\n",
              "      <td>6908.503967</td>\n",
              "    </tr>\n",
              "    <tr>\n",
              "      <th>1990-01-03</th>\n",
              "      <td>6887.0</td>\n",
              "      <td>-21.799756</td>\n",
              "      <td>6908.799756</td>\n",
              "    </tr>\n",
              "    <tr>\n",
              "      <th>1990-01-04</th>\n",
              "      <td>7008.0</td>\n",
              "      <td>98.942896</td>\n",
              "      <td>6909.057104</td>\n",
              "    </tr>\n",
              "    <tr>\n",
              "      <th>1990-01-05</th>\n",
              "      <td>6950.0</td>\n",
              "      <td>40.776052</td>\n",
              "      <td>6909.223948</td>\n",
              "    </tr>\n",
              "    <tr>\n",
              "      <th>1990-01-08</th>\n",
              "      <td>6959.0</td>\n",
              "      <td>49.689938</td>\n",
              "      <td>6909.310062</td>\n",
              "    </tr>\n",
              "  </tbody>\n",
              "</table>\n",
              "</div>"
            ],
            "text/plain": [
              "            Settle      noise        trend\n",
              "Date                                      \n",
              "1990-01-02  6847.0 -61.503967  6908.503967\n",
              "1990-01-03  6887.0 -21.799756  6908.799756\n",
              "1990-01-04  7008.0  98.942896  6909.057104\n",
              "1990-01-05  6950.0  40.776052  6909.223948\n",
              "1990-01-08  6959.0  49.689938  6909.310062"
            ]
          },
          "metadata": {
            "tags": []
          },
          "execution_count": 13
        }
      ]
    },
    {
      "cell_type": "code",
      "metadata": {
        "id": "_ixmirCDbPIp",
        "outputId": "dc0cdab9-bf2d-4b30-f432-60ce8d0564ef",
        "colab": {
          "base_uri": "https://localhost:8080/",
          "height": 286
        }
      },
      "source": [
        "yen_settle_2015 = yen_settle.loc[\"2015-1-1\":]\n",
        "yen_settle_2015 = yen_settle_2015.drop(\"noise\", axis=1)\n",
        "yen_settle_2015.plot()"
      ],
      "execution_count": 16,
      "outputs": [
        {
          "output_type": "execute_result",
          "data": {
            "text/plain": [
              "<matplotlib.axes._subplots.AxesSubplot at 0x7f5ce7dd4be0>"
            ]
          },
          "metadata": {
            "tags": []
          },
          "execution_count": 16
        },
        {
          "output_type": "display_data",
          "data": {
            "image/png": "[encoded data removed]",
            "text/plain": [
              "<Figure size 432x288 with 1 Axes>"
            ]
          },
          "metadata": {
            "tags": [],
            "needs_background": "light"
          }
        }
      ]
    },
    {
      "cell_type": "code",
      "metadata": {
        "id": "5Saz2ScUbRsu",
        "outputId": "4cbba4be-778c-4584-a681-0dac6cd63765",
        "colab": {
          "base_uri": "https://localhost:8080/",
          "height": 286
        }
      },
      "source": [
        "yen_settle[\"noise\"].plot()"
      ],
      "execution_count": 18,
      "outputs": [
        {
          "output_type": "execute_result",
          "data": {
            "text/plain": [
              "<matplotlib.axes._subplots.AxesSubplot at 0x7f5ce7cf0f60>"
            ]
          },
          "metadata": {
            "tags": []
          },
          "execution_count": 18
        },
        {
          "output_type": "display_data",
          "data": {
            "image/png": "[encoded data removed]",
            "text/plain": [
              "<Figure size 432x288 with 1 Axes>"
            ]
          },
          "metadata": {
            "tags": [],
            "needs_background": "light"
          }
        }
      ]
    },
    {
      "cell_type": "code",
      "metadata": {
        "id": "UcP8cTr_bWNU",
        "outputId": "a7fec674-28fc-47d0-ba6e-01980960d36a",
        "colab": {
          "base_uri": "https://localhost:8080/",
          "height": 235
        }
      },
      "source": [
        "returns = (yen_futures[[\"Settle\"]].pct_change() * 100)\n",
        "returns = returns.replace(-np.inf, np.nan).dropna()\n",
        "returns.tail()"
      ],
      "execution_count": 19,
      "outputs": [
        {
          "output_type": "execute_result",
          "data": {
            "text/html": [
              "<div>\n",
              "<style scoped>\n",
              "    .dataframe tbody tr th:only-of-type {\n",
              "        vertical-align: middle;\n",
              "    }\n",
              "\n",
              "    .dataframe tbody tr th {\n",
              "        vertical-align: top;\n",
              "    }\n",
              "\n",
              "    .dataframe thead th {\n",
              "        text-align: right;\n",
              "    }\n",
              "</style>\n",
              "<table border=\"1\" class=\"dataframe\">\n",
              "  <thead>\n",
              "    <tr style=\"text-align: right;\">\n",
              "      <th></th>\n",
              "      <th>Settle</th>\n",
              "    </tr>\n",
              "    <tr>\n",
              "      <th>Date</th>\n",
              "      <th></th>\n",
              "    </tr>\n",
              "  </thead>\n",
              "  <tbody>\n",
              "    <tr>\n",
              "      <th>2019-10-09</th>\n",
              "      <td>-0.410601</td>\n",
              "    </tr>\n",
              "    <tr>\n",
              "      <th>2019-10-10</th>\n",
              "      <td>-0.369458</td>\n",
              "    </tr>\n",
              "    <tr>\n",
              "      <th>2019-10-11</th>\n",
              "      <td>-0.564304</td>\n",
              "    </tr>\n",
              "    <tr>\n",
              "      <th>2019-10-14</th>\n",
              "      <td>0.151335</td>\n",
              "    </tr>\n",
              "    <tr>\n",
              "      <th>2019-10-15</th>\n",
              "      <td>-0.469509</td>\n",
              "    </tr>\n",
              "  </tbody>\n",
              "</table>\n",
              "</div>"
            ],
            "text/plain": [
              "              Settle\n",
              "Date                \n",
              "2019-10-09 -0.410601\n",
              "2019-10-10 -0.369458\n",
              "2019-10-11 -0.564304\n",
              "2019-10-14  0.151335\n",
              "2019-10-15 -0.469509"
            ]
          },
          "metadata": {
            "tags": []
          },
          "execution_count": 19
        }
      ]
    },
    {
      "cell_type": "code",
      "metadata": {
        "id": "ymWLhVlHbdnp"
      },
      "source": [
        "from statsmodels.tsa.arima_model import ARMA"
      ],
      "execution_count": 21,
      "outputs": []
    },
    {
      "cell_type": "code",
      "metadata": {
        "id": "oxdAk_1RbjG-"
      },
      "source": [
        "model = ARMA(returns.values, order=(2,1))\n",
        "results = model.fit()"
      ],
      "execution_count": 22,
      "outputs": []
    },
    {
      "cell_type": "code",
      "metadata": {
        "id": "hkRAEkxobkgp",
        "outputId": "32233ee5-a015-414d-c3a2-411463be6e29",
        "colab": {
          "base_uri": "https://localhost:8080/"
        }
      },
      "source": [
        "print(results.summary())"
      ],
      "execution_count": 23,
      "outputs": [
        {
          "output_type": "stream",
          "text": [
            "                              ARMA Model Results                              \n",
            "==============================================================================\n",
            "Dep. Variable:                      y   No. Observations:                 7514\n",
            "Model:                     ARMA(2, 1)   Log Likelihood               -7894.071\n",
            "Method:                       css-mle   S.D. of innovations              0.692\n",
            "Date:                Fri, 13 Nov 2020   AIC                          15798.142\n",
            "Time:                        11:47:28   BIC                          15832.765\n",
            "Sample:                             0   HQIC                         15810.030\n",
            "                                                                              \n",
            "==============================================================================\n",
            "                 coef    std err          z      P>|z|      [0.025      0.975]\n",
            "------------------------------------------------------------------------------\n",
            "const          0.0063      0.008      0.804      0.421      -0.009       0.022\n",
            "ar.L1.y       -0.3063      1.277     -0.240      0.810      -2.809       2.197\n",
            "ar.L2.y       -0.0019      0.019     -0.099      0.921      -0.040       0.036\n",
            "ma.L1.y        0.2947      1.277      0.231      0.817      -2.208       2.798\n",
            "                                    Roots                                    \n",
            "=============================================================================\n",
            "                  Real          Imaginary           Modulus         Frequency\n",
            "-----------------------------------------------------------------------------\n",
            "AR.1           -3.3344           +0.0000j            3.3344            0.5000\n",
            "AR.2         -157.2315           +0.0000j          157.2315            0.5000\n",
            "MA.1           -3.3933           +0.0000j            3.3933            0.5000\n",
            "-----------------------------------------------------------------------------\n"
          ],
          "name": "stdout"
        }
      ]
    },
    {
      "cell_type": "code",
      "metadata": {
        "id": "pwq8W1K2bopa",
        "outputId": "400f8991-4faa-4215-daec-0efe10fe8c8e",
        "colab": {
          "base_uri": "https://localhost:8080/",
          "height": 298
        }
      },
      "source": [
        "print(pd.DataFrame(results.forecast(steps=5)[0]).plot(title=\"5 Day Returns Forecast\"))"
      ],
      "execution_count": 25,
      "outputs": [
        {
          "output_type": "stream",
          "text": [
            "AxesSubplot(0.125,0.125;0.775x0.755)\n"
          ],
          "name": "stdout"
        },
        {
          "output_type": "display_data",
          "data": {
            "image/png": "[encoded data removed]",
            "text/plain": [
              "<Figure size 432x288 with 1 Axes>"
            ]
          },
          "metadata": {
            "tags": [],
            "needs_background": "light"
          }
        }
      ]
    },
    {
      "cell_type": "code",
      "metadata": {
        "id": "Ss_c6ORHbs5M"
      },
      "source": [
        "from statsmodels.tsa.arima_model import ARIMA"
      ],
      "execution_count": 26,
      "outputs": []
    },
    {
      "cell_type": "code",
      "metadata": {
        "id": "2nsNFkjlbzE_"
      },
      "source": [
        "model = ARIMA(yen_futures[\"Settle\"], order=(5, 1, 2))\n",
        "results = model.fit()"
      ],
      "execution_count": 27,
      "outputs": []
    },
    {
      "cell_type": "code",
      "metadata": {
        "id": "JnCMaqmsbzuo",
        "outputId": "a9259dcc-dc87-4f72-e643-46397126427a",
        "colab": {
          "base_uri": "https://localhost:8080/",
          "height": 544
        }
      },
      "source": [
        "results.summary()"
      ],
      "execution_count": 28,
      "outputs": [
        {
          "output_type": "execute_result",
          "data": {
            "text/html": [
              "<table class=\"simpletable\">\n",
              "<caption>ARIMA Model Results</caption>\n",
              "<tr>\n",
              "  <th>Dep. Variable:</th>     <td>D.Settle</td>     <th>  No. Observations:  </th>    <td>7514</td>   \n",
              "</tr>\n",
              "<tr>\n",
              "  <th>Model:</th>          <td>ARIMA(5, 1, 2)</td>  <th>  Log Likelihood     </th> <td>-41944.316</td>\n",
              "</tr>\n",
              "<tr>\n",
              "  <th>Method:</th>             <td>css-mle</td>     <th>  S.D. of innovations</th>   <td>64.278</td>  \n",
              "</tr>\n",
              "<tr>\n",
              "  <th>Date:</th>          <td>Fri, 13 Nov 2020</td> <th>  AIC                </th>  <td>83906.632</td>\n",
              "</tr>\n",
              "<tr>\n",
              "  <th>Time:</th>              <td>11:48:23</td>     <th>  BIC                </th>  <td>83968.953</td>\n",
              "</tr>\n",
              "<tr>\n",
              "  <th>Sample:</th>                <td>1</td>        <th>  HQIC               </th>  <td>83928.031</td>\n",
              "</tr>\n",
              "<tr>\n",
              "  <th></th>                       <td> </td>        <th>                     </th>      <td> </td>    \n",
              "</tr>\n",
              "</table>\n",
              "<table class=\"simpletable\">\n",
              "<tr>\n",
              "         <td></td>           <th>coef</th>     <th>std err</th>      <th>z</th>      <th>P>|z|</th>  <th>[0.025</th>    <th>0.975]</th>  \n",
              "</tr>\n",
              "<tr>\n",
              "  <th>const</th>          <td>    0.3161</td> <td>    0.701</td> <td>    0.451</td> <td> 0.652</td> <td>   -1.057</td> <td>    1.689</td>\n",
              "</tr>\n",
              "<tr>\n",
              "  <th>ar.L1.D.Settle</th> <td>   -0.2554</td> <td>    0.502</td> <td>   -0.509</td> <td> 0.611</td> <td>   -1.239</td> <td>    0.729</td>\n",
              "</tr>\n",
              "<tr>\n",
              "  <th>ar.L2.D.Settle</th> <td>    0.2977</td> <td>    0.296</td> <td>    1.006</td> <td> 0.314</td> <td>   -0.282</td> <td>    0.878</td>\n",
              "</tr>\n",
              "<tr>\n",
              "  <th>ar.L3.D.Settle</th> <td>   -0.0101</td> <td>    0.014</td> <td>   -0.747</td> <td> 0.455</td> <td>   -0.037</td> <td>    0.016</td>\n",
              "</tr>\n",
              "<tr>\n",
              "  <th>ar.L4.D.Settle</th> <td>   -0.0219</td> <td>    0.015</td> <td>   -1.492</td> <td> 0.136</td> <td>   -0.051</td> <td>    0.007</td>\n",
              "</tr>\n",
              "<tr>\n",
              "  <th>ar.L5.D.Settle</th> <td>   -0.0003</td> <td>    0.017</td> <td>   -0.016</td> <td> 0.988</td> <td>   -0.034</td> <td>    0.033</td>\n",
              "</tr>\n",
              "<tr>\n",
              "  <th>ma.L1.D.Settle</th> <td>    0.2405</td> <td>    0.502</td> <td>    0.479</td> <td> 0.632</td> <td>   -0.743</td> <td>    1.224</td>\n",
              "</tr>\n",
              "<tr>\n",
              "  <th>ma.L2.D.Settle</th> <td>   -0.3051</td> <td>    0.291</td> <td>   -1.048</td> <td> 0.295</td> <td>   -0.876</td> <td>    0.266</td>\n",
              "</tr>\n",
              "</table>\n",
              "<table class=\"simpletable\">\n",
              "<caption>Roots</caption>\n",
              "<tr>\n",
              "    <td></td>   <th>            Real</th>  <th>         Imaginary</th> <th>         Modulus</th>  <th>        Frequency</th>\n",
              "</tr>\n",
              "<tr>\n",
              "  <th>AR.1</th> <td>          -1.5234</td> <td>          -0.0000j</td> <td>           1.5234</td> <td>          -0.5000</td>\n",
              "</tr>\n",
              "<tr>\n",
              "  <th>AR.2</th> <td>           2.4648</td> <td>          -1.1771j</td> <td>           2.7315</td> <td>          -0.0709</td>\n",
              "</tr>\n",
              "<tr>\n",
              "  <th>AR.3</th> <td>           2.4648</td> <td>          +1.1771j</td> <td>           2.7315</td> <td>           0.0709</td>\n",
              "</tr>\n",
              "<tr>\n",
              "  <th>AR.4</th> <td>          -4.0442</td> <td>          -0.0000j</td> <td>           4.0442</td> <td>          -0.5000</td>\n",
              "</tr>\n",
              "<tr>\n",
              "  <th>AR.5</th> <td>         -80.6546</td> <td>          -0.0000j</td> <td>          80.6546</td> <td>          -0.5000</td>\n",
              "</tr>\n",
              "<tr>\n",
              "  <th>MA.1</th> <td>          -1.4587</td> <td>          +0.0000j</td> <td>           1.4587</td> <td>           0.5000</td>\n",
              "</tr>\n",
              "<tr>\n",
              "  <th>MA.2</th> <td>           2.2467</td> <td>          +0.0000j</td> <td>           2.2467</td> <td>           0.0000</td>\n",
              "</tr>\n",
              "</table>"
            ],
            "text/plain": [
              "<class 'statsmodels.iolib.summary.Summary'>\n",
              "\"\"\"\n",
              "                             ARIMA Model Results                              \n",
              "==============================================================================\n",
              "Dep. Variable:               D.Settle   No. Observations:                 7514\n",
              "Model:                 ARIMA(5, 1, 2)   Log Likelihood              -41944.316\n",
              "Method:                       css-mle   S.D. of innovations             64.278\n",
              "Date:                Fri, 13 Nov 2020   AIC                          83906.632\n",
              "Time:                        11:48:23   BIC                          83968.953\n",
              "Sample:                             1   HQIC                         83928.031\n",
              "                                                                              \n",
              "==================================================================================\n",
              "                     coef    std err          z      P>|z|      [0.025      0.975]\n",
              "----------------------------------------------------------------------------------\n",
              "const              0.3161      0.701      0.451      0.652      -1.057       1.689\n",
              "ar.L1.D.Settle    -0.2554      0.502     -0.509      0.611      -1.239       0.729\n",
              "ar.L2.D.Settle     0.2977      0.296      1.006      0.314      -0.282       0.878\n",
              "ar.L3.D.Settle    -0.0101      0.014     -0.747      0.455      -0.037       0.016\n",
              "ar.L4.D.Settle    -0.0219      0.015     -1.492      0.136      -0.051       0.007\n",
              "ar.L5.D.Settle    -0.0003      0.017     -0.016      0.988      -0.034       0.033\n",
              "ma.L1.D.Settle     0.2405      0.502      0.479      0.632      -0.743       1.224\n",
              "ma.L2.D.Settle    -0.3051      0.291     -1.048      0.295      -0.876       0.266\n",
              "                                    Roots                                    \n",
              "=============================================================================\n",
              "                  Real          Imaginary           Modulus         Frequency\n",
              "-----------------------------------------------------------------------------\n",
              "AR.1           -1.5234           -0.0000j            1.5234           -0.5000\n",
              "AR.2            2.4648           -1.1771j            2.7315           -0.0709\n",
              "AR.3            2.4648           +1.1771j            2.7315            0.0709\n",
              "AR.4           -4.0442           -0.0000j            4.0442           -0.5000\n",
              "AR.5          -80.6546           -0.0000j           80.6546           -0.5000\n",
              "MA.1           -1.4587           +0.0000j            1.4587            0.5000\n",
              "MA.2            2.2467           +0.0000j            2.2467            0.0000\n",
              "-----------------------------------------------------------------------------\n",
              "\"\"\""
            ]
          },
          "metadata": {
            "tags": []
          },
          "execution_count": 28
        }
      ]
    },
    {
      "cell_type": "code",
      "metadata": {
        "id": "804MIzr2b2JT",
        "outputId": "9eb2d2ac-17b3-4efe-d5b4-4764ed7d43a9",
        "colab": {
          "base_uri": "https://localhost:8080/",
          "height": 298
        }
      },
      "source": [
        "pd.DataFrame(results.forecast(steps=5)[0]).plot(title=\"Forecast Prediction\")"
      ],
      "execution_count": 35,
      "outputs": [
        {
          "output_type": "execute_result",
          "data": {
            "text/plain": [
              "<matplotlib.axes._subplots.AxesSubplot at 0x7f5cdee643c8>"
            ]
          },
          "metadata": {
            "tags": []
          },
          "execution_count": 35
        },
        {
          "output_type": "display_data",
          "data": {
            "image/png": "[encoded data removed]",
            "text/plain": [
              "<Figure size 432x288 with 1 Axes>"
            ]
          },
          "metadata": {
            "tags": [],
            "needs_background": "light"
          }
        }
      ]
    },
    {
      "cell_type": "code",
      "metadata": {
        "id": "g54sa1ecb7nS"
      },
      "source": [
        "from arch import arch_model"
      ],
      "execution_count": 36,
      "outputs": []
    },
    {
      "cell_type": "code",
      "metadata": {
        "id": "PWgWVfYMb-pi"
      },
      "source": [
        "model = arch_model(returns, mean=\"Zero\", vol=\"GARCH\", p=2, q=1)\n",
        "results = model.fit(disp=\"off\")"
      ],
      "execution_count": 37,
      "outputs": []
    },
    {
      "cell_type": "code",
      "metadata": {
        "id": "ifALA0BjcKoA",
        "outputId": "29ec1252-cd32-4d6f-e49f-f5ca62162030",
        "colab": {
          "base_uri": "https://localhost:8080/",
          "height": 379
        }
      },
      "source": [
        "results.summary()"
      ],
      "execution_count": 38,
      "outputs": [
        {
          "output_type": "execute_result",
          "data": {
            "text/html": [
              "<table class=\"simpletable\">\n",
              "<caption>Zero Mean - GARCH Model Results</caption>\n",
              "<tr>\n",
              "  <th>Dep. Variable:</th>       <td>Settle</td>       <th>  R-squared:         </th>  <td>   0.000</td> \n",
              "</tr>\n",
              "<tr>\n",
              "  <th>Mean Model:</th>         <td>Zero Mean</td>     <th>  Adj. R-squared:    </th>  <td>   0.000</td> \n",
              "</tr>\n",
              "<tr>\n",
              "  <th>Vol Model:</th>            <td>GARCH</td>       <th>  Log-Likelihood:    </th> <td>  -7461.93</td>\n",
              "</tr>\n",
              "<tr>\n",
              "  <th>Distribution:</th>        <td>Normal</td>       <th>  AIC:               </th> <td>   14931.9</td>\n",
              "</tr>\n",
              "<tr>\n",
              "  <th>Method:</th>        <td>Maximum Likelihood</td> <th>  BIC:               </th> <td>   14959.6</td>\n",
              "</tr>\n",
              "<tr>\n",
              "  <th></th>                        <td></td>          <th>  No. Observations:  </th>    <td>7514</td>   \n",
              "</tr>\n",
              "<tr>\n",
              "  <th>Date:</th>           <td>Fri, Nov 13 2020</td>  <th>  Df Residuals:      </th>    <td>7510</td>   \n",
              "</tr>\n",
              "<tr>\n",
              "  <th>Time:</th>               <td>11:49:47</td>      <th>  Df Model:          </th>      <td>4</td>    \n",
              "</tr>\n",
              "</table>\n",
              "<table class=\"simpletable\">\n",
              "<caption>Volatility Model</caption>\n",
              "<tr>\n",
              "      <td></td>        <th>coef</th>     <th>std err</th>      <th>t</th>       <th>P>|t|</th>      <th>95.0% Conf. Int.</th>   \n",
              "</tr>\n",
              "<tr>\n",
              "  <th>omega</th>    <td>4.2896e-03</td> <td>2.057e-03</td> <td>    2.085</td> <td>3.708e-02</td>  <td>[2.571e-04,8.322e-03]</td>\n",
              "</tr>\n",
              "<tr>\n",
              "  <th>alpha[1]</th> <td>    0.0381</td> <td>1.282e-02</td> <td>    2.970</td> <td>2.974e-03</td>  <td>[1.295e-02,6.321e-02]</td>\n",
              "</tr>\n",
              "<tr>\n",
              "  <th>alpha[2]</th>   <td>0.0000</td>   <td>1.703e-02</td>   <td>0.000</td>   <td>    1.000</td> <td>[-3.338e-02,3.338e-02]</td>\n",
              "</tr>\n",
              "<tr>\n",
              "  <th>beta[1]</th>  <td>    0.9536</td> <td>1.420e-02</td> <td>   67.135</td>   <td>0.000</td>      <td>[  0.926,  0.981]</td>  \n",
              "</tr>\n",
              "</table><br/><br/>Covariance estimator: robust"
            ],
            "text/plain": [
              "<class 'statsmodels.iolib.summary.Summary'>\n",
              "\"\"\"\n",
              "                       Zero Mean - GARCH Model Results                        \n",
              "==============================================================================\n",
              "Dep. Variable:                 Settle   R-squared:                       0.000\n",
              "Mean Model:                 Zero Mean   Adj. R-squared:                  0.000\n",
              "Vol Model:                      GARCH   Log-Likelihood:               -7461.93\n",
              "Distribution:                  Normal   AIC:                           14931.9\n",
              "Method:            Maximum Likelihood   BIC:                           14959.6\n",
              "                                        No. Observations:                 7514\n",
              "Date:                Fri, Nov 13 2020   Df Residuals:                     7510\n",
              "Time:                        11:49:47   Df Model:                            4\n",
              "                               Volatility Model                              \n",
              "=============================================================================\n",
              "                 coef    std err          t      P>|t|       95.0% Conf. Int.\n",
              "-----------------------------------------------------------------------------\n",
              "omega      4.2896e-03  2.057e-03      2.085  3.708e-02  [2.571e-04,8.322e-03]\n",
              "alpha[1]       0.0381  1.282e-02      2.970  2.974e-03  [1.295e-02,6.321e-02]\n",
              "alpha[2]       0.0000  1.703e-02      0.000      1.000 [-3.338e-02,3.338e-02]\n",
              "beta[1]        0.9536  1.420e-02     67.135      0.000      [  0.926,  0.981]\n",
              "=============================================================================\n",
              "\n",
              "Covariance estimator: robust\n",
              "\"\"\""
            ]
          },
          "metadata": {
            "tags": []
          },
          "execution_count": 38
        }
      ]
    },
    {
      "cell_type": "code",
      "metadata": {
        "id": "ibThBYLHcMya",
        "outputId": "fdae89b8-1fcf-475f-9bae-ae8a55cdd4e7",
        "colab": {
          "base_uri": "https://localhost:8080/"
        }
      },
      "source": [
        "last_day = returns.index.max().strftime('%Y-%m-%d')\n",
        "print(last_day)"
      ],
      "execution_count": 39,
      "outputs": [
        {
          "output_type": "stream",
          "text": [
            "2019-10-15\n"
          ],
          "name": "stdout"
        }
      ]
    },
    {
      "cell_type": "code",
      "metadata": {
        "id": "sEOd9JNccSfc",
        "outputId": "cf10d0da-653b-489f-bcbd-b19d79361dd2",
        "colab": {
          "base_uri": "https://localhost:8080/"
        }
      },
      "source": [
        "forecast_horizon = 5\n",
        "forecasts = results.forecast(start=last_day, horizon=forecast_horizon)\n",
        "forecasts"
      ],
      "execution_count": 40,
      "outputs": [
        {
          "output_type": "execute_result",
          "data": {
            "text/plain": [
              "<arch.univariate.base.ARCHModelForecast at 0x7f5cdeded6a0>"
            ]
          },
          "metadata": {
            "tags": []
          },
          "execution_count": 40
        }
      ]
    },
    {
      "cell_type": "code",
      "metadata": {
        "id": "vENDU0W-cVTk",
        "outputId": "b4c7fb26-20ab-4f66-b4a8-9e3b6e933803",
        "colab": {
          "base_uri": "https://localhost:8080/",
          "height": 111
        }
      },
      "source": [
        "intermediate = np.sqrt(forecasts.variance.dropna() * 252)\n",
        "intermediate # Only one date!"
      ],
      "execution_count": 42,
      "outputs": [
        {
          "output_type": "execute_result",
          "data": {
            "text/html": [
              "<div>\n",
              "<style scoped>\n",
              "    .dataframe tbody tr th:only-of-type {\n",
              "        vertical-align: middle;\n",
              "    }\n",
              "\n",
              "    .dataframe tbody tr th {\n",
              "        vertical-align: top;\n",
              "    }\n",
              "\n",
              "    .dataframe thead th {\n",
              "        text-align: right;\n",
              "    }\n",
              "</style>\n",
              "<table border=\"1\" class=\"dataframe\">\n",
              "  <thead>\n",
              "    <tr style=\"text-align: right;\">\n",
              "      <th></th>\n",
              "      <th>h.1</th>\n",
              "      <th>h.2</th>\n",
              "      <th>h.3</th>\n",
              "      <th>h.4</th>\n",
              "      <th>h.5</th>\n",
              "    </tr>\n",
              "    <tr>\n",
              "      <th>Date</th>\n",
              "      <th></th>\n",
              "      <th></th>\n",
              "      <th></th>\n",
              "      <th></th>\n",
              "      <th></th>\n",
              "    </tr>\n",
              "  </thead>\n",
              "  <tbody>\n",
              "    <tr>\n",
              "      <th>2019-10-15</th>\n",
              "      <td>7.434048</td>\n",
              "      <td>7.475745</td>\n",
              "      <td>7.516867</td>\n",
              "      <td>7.557426</td>\n",
              "      <td>7.597434</td>\n",
              "    </tr>\n",
              "  </tbody>\n",
              "</table>\n",
              "</div>"
            ],
            "text/plain": [
              "                 h.1       h.2       h.3       h.4       h.5\n",
              "Date                                                        \n",
              "2019-10-15  7.434048  7.475745  7.516867  7.557426  7.597434"
            ]
          },
          "metadata": {
            "tags": []
          },
          "execution_count": 42
        }
      ]
    },
    {
      "cell_type": "code",
      "metadata": {
        "id": "dlEqt4JhcZE1",
        "outputId": "8422b38b-16b3-45bc-f035-5d6b82178b52",
        "colab": {
          "base_uri": "https://localhost:8080/"
        }
      },
      "source": [
        "final = intermediate.dropna().T\n",
        "print(final.head())"
      ],
      "execution_count": 44,
      "outputs": [
        {
          "output_type": "stream",
          "text": [
            "Date  2019-10-15\n",
            "h.1     7.434048\n",
            "h.2     7.475745\n",
            "h.3     7.516867\n",
            "h.4     7.557426\n",
            "h.5     7.597434\n"
          ],
          "name": "stdout"
        }
      ]
    },
    {
      "cell_type": "code",
      "metadata": {
        "id": "vCChA77Wcdvt",
        "outputId": "42ccfaee-b927-4a36-c4e9-11f424bafb14",
        "colab": {
          "base_uri": "https://localhost:8080/",
          "height": 281
        }
      },
      "source": [
        "# Plot the forecast!\n",
        "fig = final.plot(title=\"Volatility Forecast\")"
      ],
      "execution_count": 45,
      "outputs": [
        {
          "output_type": "display_data",
          "data": {
            "image/png": "[encoded data removed]",
            "text/plain": [
              "<Figure size 432x288 with 1 Axes>"
            ]
          },
          "metadata": {
            "tags": [],
            "needs_background": "light"
          }
        }
      ]
    },
    {
      "cell_type": "code",
      "metadata": {
        "id": "Ik7GT3racrNU"
      },
      "source": [
        ""
      ],
      "execution_count": null,
      "outputs": []
    }
  ]
}